{
 "cells": [
  {
   "cell_type": "code",
   "execution_count": 5,
   "metadata": {},
   "outputs": [],
   "source": [
    "import numpy as np\n",
    "import pandas as pd\n",
    "from scipy import stats\n",
    "from sklearn import preprocessing"
   ]
  },
  {
   "cell_type": "code",
   "execution_count": 6,
   "metadata": {},
   "outputs": [],
   "source": [
    "def sgG(data,lr,m):\n",
    "    N,n=data.shape\n",
    "    ms=np.zeros(n)\n",
    "    for j in range(N):\n",
    "        x=data.iloc[j:j+1,0:n-1]\n",
    "        x=x.values\n",
    "#         x=x.reshape(1,-1)\n",
    "#         x=scaller.transform(x)\n",
    "#         x.reshape(-1,1)\n",
    "        x=np.append(x,[1])\n",
    "        y=data.iloc[j:j+1,n-1:n]\n",
    "        M=(-2/N)*(y-(m*x).sum()).values\n",
    "        Z=(M*x)\n",
    "        ms=Z\n",
    "    nm = m-(lr*ms)\n",
    "    return nm"
   ]
  },
  {
   "cell_type": "code",
   "execution_count": 7,
   "metadata": {},
   "outputs": [],
   "source": [
    "def cost(data,m):\n",
    "    tc=0;\n",
    "    N,n=data.shape\n",
    "    for i in range(N):\n",
    "        x=data.iloc[i:i+1,0:n-1]\n",
    "        x=x.values\n",
    "#         x=x.reshape(1,-1)\n",
    "#         x=scaller.transform(x)\n",
    "#         x.reshape(-1,1)\n",
    "        x=np.append(x,[1])\n",
    "        y=data.iloc[i:i+1,n-1:n].values\n",
    "        tc+=(y-((m*x).sum()))**2\n",
    "    return tc/N"
   ]
  },
  {
   "cell_type": "code",
   "execution_count": 8,
   "metadata": {},
   "outputs": [],
   "source": [
    "def gdG(data,lr,it):\n",
    "    N,M=data.shape\n",
    "    m= np.zeros(M)\n",
    "    m=sgG(data,lr,m)\n",
    "    for i in range(it):\n",
    "#         print(m.shape)\n",
    "        m=sgG(data,lr,m) #single step\n",
    "        print(i, \" Cost: \",cost(data,m))\n",
    "    for i in m:\n",
    "        print(i,end=\", \")\n",
    "    return m"
   ]
  },
  {
   "cell_type": "code",
   "execution_count": 9,
   "metadata": {},
   "outputs": [],
   "source": [
    "def run():\n",
    "    iris = pd.read_csv(\"cpp_train.csv\",delimiter=\",\")\n",
    "#     iris=iris.iloc[0:500,:]\n",
    "    res=iris.iloc[:,4:5]\n",
    "    iris=iris.iloc[:,0:4]\n",
    "    (N,M)=iris.shape\n",
    "#     print\n",
    "    k=0\n",
    "    for i in range(M):\n",
    "        iris[k]=(iris[iris.columns[i]]*iris[iris.columns[i]])**0.5\n",
    "        k=k+1\n",
    "    iris[' res']=res\n",
    "    data=iris\n",
    "    lr=0.001\n",
    "    it=100\n",
    "    m=gdG(data,lr,it)\n",
    "    return m"
   ]
  },
  {
   "cell_type": "code",
   "execution_count": 10,
   "metadata": {},
   "outputs": [],
   "source": [
    "def predict(m,data):\n",
    "    N,n=data.shape\n",
    "    y=np.zeros(N)\n",
    "    for j in range(N):\n",
    "        x=data.iloc[j:j+1,:]\n",
    "        x=x.values\n",
    "#         x=x.reshape(1,-1)\n",
    "#         x=scaller.transform(x)\n",
    "#         x.reshape(-1,1)\n",
    "        x=np.append(x,[1])\n",
    "        y[j]=(m*x).sum()\n",
    "    return y\n",
    "        "
   ]
  },
  {
   "cell_type": "code",
   "execution_count": null,
   "metadata": {},
   "outputs": [
    {
     "name": "stdout",
     "output_type": "stream",
     "text": [
      "0  Cost:  [[8340.43505879]]\n",
      "1  Cost:  [[2141.89824257]]\n",
      "2  Cost:  [[814.64429809]]\n",
      "3  Cost:  [[488.18955761]]\n",
      "4  Cost:  [[392.56442527]]\n",
      "5  Cost:  [[359.71283967]]\n",
      "6  Cost:  [[347.1430923]]\n"
     ]
    }
   ],
   "source": [
    "data=np.genfromtxt(\"boston_train.csv\",delimiter=\",\")\n",
    "data2=np.genfromtxt(\"boston_test.csv\",delimiter=',')\n",
    "N,n=data2.shape\n",
    "x=data[:,:n]\n",
    "x=np.concatenate((x, data2), axis=0)\n",
    "M,n=x.shape\n",
    "k=500\n",
    "iris=pd.DataFrame(x)\n",
    "for i in range(n):\n",
    "    iris[k]=(iris[iris.columns[i]]*iris[iris.columns[i]])**0.5\n",
    "    k=k+1\n",
    "x=iris.values\n",
    "one=np.ones((x.shape[0],1))\n",
    "# scaller = preprocessing.StandardScaler()\n",
    "# scaller.fit(x)\n",
    "m=run()\n",
    "iris = pd.read_csv(\"boston_test.csv\",delimiter=\",\")\n",
    "k=0\n",
    "N,M=iris.shape\n",
    "for i in range(M):\n",
    "    iris[k]=(iris[iris.columns[i]]*iris[iris.columns[i]])**0.5\n",
    "    k=k+1\n",
    "data_test=iris\n",
    "# print(\"data_test\", data_test.shape)\n",
    "y=predict(m,data_test)\n",
    "# print (data_test.shape)\n",
    "# print (y.shape)\n",
    "np.savetxt(\"boston.csv\", y, delimiter=\",\", fmt='%.5f')"
   ]
  },
  {
   "cell_type": "code",
   "execution_count": null,
   "metadata": {},
   "outputs": [],
   "source": []
  },
  {
   "cell_type": "code",
   "execution_count": null,
   "metadata": {},
   "outputs": [],
   "source": []
  },
  {
   "cell_type": "code",
   "execution_count": null,
   "metadata": {},
   "outputs": [],
   "source": []
  },
  {
   "cell_type": "code",
   "execution_count": null,
   "metadata": {},
   "outputs": [],
   "source": []
  },
  {
   "cell_type": "code",
   "execution_count": null,
   "metadata": {},
   "outputs": [],
   "source": []
  },
  {
   "cell_type": "code",
   "execution_count": null,
   "metadata": {},
   "outputs": [],
   "source": []
  },
  {
   "cell_type": "code",
   "execution_count": null,
   "metadata": {},
   "outputs": [],
   "source": []
  },
  {
   "cell_type": "code",
   "execution_count": null,
   "metadata": {},
   "outputs": [],
   "source": []
  },
  {
   "cell_type": "code",
   "execution_count": null,
   "metadata": {},
   "outputs": [],
   "source": []
  },
  {
   "cell_type": "code",
   "execution_count": null,
   "metadata": {},
   "outputs": [],
   "source": []
  },
  {
   "cell_type": "code",
   "execution_count": null,
   "metadata": {},
   "outputs": [],
   "source": []
  },
  {
   "cell_type": "code",
   "execution_count": 4,
   "metadata": {
    "scrolled": false
   },
   "outputs": [
    {
     "name": "stdout",
     "output_type": "stream",
     "text": [
      "(379, 14)\n",
      "(127, 13)\n",
      "iris.shape (506, 13)\n",
      "(506, 13)\n",
      "(506, 26)\n",
      "13\n",
      "(506, 26)\n",
      "(506, 27)\n"
     ]
    },
    {
     "data": {
      "text/plain": [
       "StandardScaler(copy=True, with_mean=True, with_std=True)"
      ]
     },
     "execution_count": 4,
     "metadata": {},
     "output_type": "execute_result"
    }
   ],
   "source": [
    "data=np.genfromtxt(\"boston_train.csv\",delimiter=\",\")\n",
    "data2=np.genfromtxt(\"boston_test.csv\",delimiter=',')\n",
    "N,n=data2.shape\n",
    "x=data[:,:n]\n",
    "print(data.shape)\n",
    "print(data2.shape)\n",
    "x=np.concatenate((x, data2), axis=0)\n",
    "M,n=x.shape\n",
    "k=500\n",
    "iris=pd.DataFrame(x)\n",
    "print(\"iris.shape\",iris.shape)\n",
    "for i in range(n):\n",
    "    iris[k]=(iris[iris.columns[i]]*iris[iris.columns[i]])**0.5\n",
    "    k=k+1\n",
    "print(x.shape)\n",
    "print(iris.shape)\n",
    "print(n)\n",
    "x=iris.values\n",
    "one=np.ones((x.shape[0],1))\n",
    "print(x.shape)\n",
    "x=np.append(x,one,axis=1)\n",
    "print(x.shape)\n",
    "scaller = preprocessing.StandardScaler()\n",
    "scaller.fit(x)"
   ]
  }
 ],
 "metadata": {
  "kernelspec": {
   "display_name": "Python 3",
   "language": "python",
   "name": "python3"
  },
  "language_info": {
   "codemirror_mode": {
    "name": "ipython",
    "version": 3
   },
   "file_extension": ".py",
   "mimetype": "text/x-python",
   "name": "python",
   "nbconvert_exporter": "python",
   "pygments_lexer": "ipython3",
   "version": "3.7.0"
  }
 },
 "nbformat": 4,
 "nbformat_minor": 2
}
